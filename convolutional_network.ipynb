{
 "cells": [
  {
   "cell_type": "code",
   "execution_count": 1,
   "metadata": {
    "collapsed": true
   },
   "outputs": [],
   "source": [
    "import tensorflow as tf"
   ]
  },
  {
   "cell_type": "code",
   "execution_count": 2,
   "metadata": {},
   "outputs": [
    {
     "name": "stdout",
     "output_type": "stream",
     "text": [
      "Extracting MNIST_data/train-images-idx3-ubyte.gz\n",
      "Extracting MNIST_data/train-labels-idx1-ubyte.gz\n",
      "Extracting MNIST_data/t10k-images-idx3-ubyte.gz\n",
      "Extracting MNIST_data/t10k-labels-idx1-ubyte.gz\n"
     ]
    }
   ],
   "source": [
    "from tensorflow.examples.tutorials.mnist import input_data\n",
    "mnist = input_data.read_data_sets(\"MNIST_data/\", one_hot=True)"
   ]
  },
  {
   "cell_type": "code",
   "execution_count": 3,
   "metadata": {
    "collapsed": true
   },
   "outputs": [],
   "source": [
    "# Parameters\n",
    "learning_rate = 0.001\n",
    "training_iters = 200000\n",
    "batch_size = 128\n",
    "display_step = 10\n",
    "\n",
    "# Network Parameters\n",
    "n_input = 784 # MNIST data input (img shape: 28*28)\n",
    "n_classes = 10 # MNIST total classes (0-9 digits)\n",
    "dropout = 0.75 # Dropout, probability to keep units\n",
    "\n",
    "# tf Graph input\n",
    "x = tf.placeholder(tf.float32, [None, n_input])\n",
    "y = tf.placeholder(tf.float32, [None, n_classes])\n",
    "keep_prob = tf.placeholder(tf.float32) #dropout (keep probability)"
   ]
  },
  {
   "cell_type": "code",
   "execution_count": 4,
   "metadata": {
    "collapsed": true
   },
   "outputs": [],
   "source": [
    "def conv2d(x, W, b, strides=1):\n",
    "    # Conv2D wrapper, with bias and relu activation\n",
    "    x = tf.nn.conv2d(x, W, strides=[1, strides, strides, 1], padding='SAME')\n",
    "    x = tf.nn.bias_add(x, b)\n",
    "    return tf.nn.relu(x)"
   ]
  },
  {
   "cell_type": "code",
   "execution_count": 5,
   "metadata": {
    "collapsed": true
   },
   "outputs": [],
   "source": [
    "def maxpool2d(x, k=2):\n",
    "    # MaxPool2D wrapper\n",
    "    return tf.nn.max_pool(x, ksize=[1, k, k, 1], strides=[1, k, k, 1],\n",
    "                          padding='SAME')\n"
   ]
  },
  {
   "cell_type": "code",
   "execution_count": 6,
   "metadata": {
    "collapsed": true
   },
   "outputs": [],
   "source": [
    "# Create model\n",
    "def conv_net(x, weights, biases, dropout):\n",
    "    # Reshape input picture\n",
    "    x = tf.reshape(x, shape=[-1, 28, 28, 1])\n",
    "\n",
    "    # Convolution Layer\n",
    "    conv1 = conv2d(x, weights['wc1'], biases['bc1'])\n",
    "    # Max Pooling (down-sampling)\n",
    "    conv1 = maxpool2d(conv1, k=2)\n",
    "\n",
    "    # Convolution Layer\n",
    "    conv2 = conv2d(conv1, weights['wc2'], biases['bc2'])\n",
    "    # Max Pooling (down-sampling)\n",
    "    conv2 = maxpool2d(conv2, k=2)\n",
    "\n",
    "    # Fully connected layer\n",
    "    # Reshape conv2 output to fit fully connected layer input\n",
    "    fc1 = tf.reshape(conv2, [-1, weights['wd1'].get_shape().as_list()[0]])\n",
    "    fc1 = tf.add(tf.matmul(fc1, weights['wd1']), biases['bd1'])\n",
    "    fc1 = tf.nn.relu(fc1)\n",
    "    # Apply Dropout\n",
    "    fc1 = tf.nn.dropout(fc1, dropout)\n",
    "\n",
    "    # Output, class prediction\n",
    "    out = tf.add(tf.matmul(fc1, weights['out']), biases['out'])\n",
    "    return out"
   ]
  },
  {
   "cell_type": "code",
   "execution_count": 7,
   "metadata": {
    "collapsed": true
   },
   "outputs": [],
   "source": [
    "# Store layers weight & bias\n",
    "weights = {\n",
    "    # 5x5 conv, 1 input, 32 outputs\n",
    "    'wc1': tf.Variable(tf.random_normal([5, 5, 1, 32])),\n",
    "    # 5x5 conv, 32 inputs, 64 outputs\n",
    "    'wc2': tf.Variable(tf.random_normal([5, 5, 32, 64])),\n",
    "    # fully connected, 7*7*64 inputs, 1024 outputs\n",
    "    'wd1': tf.Variable(tf.random_normal([7*7*64, 1024])),\n",
    "    # 1024 inputs, 10 outputs (class prediction)\n",
    "    'out': tf.Variable(tf.random_normal([1024, n_classes]))\n",
    "}\n",
    "\n",
    "biases = {\n",
    "    'bc1': tf.Variable(tf.random_normal([32])),\n",
    "    'bc2': tf.Variable(tf.random_normal([64])),\n",
    "    'bd1': tf.Variable(tf.random_normal([1024])),\n",
    "    'out': tf.Variable(tf.random_normal([n_classes]))\n",
    "}"
   ]
  },
  {
   "cell_type": "code",
   "execution_count": 8,
   "metadata": {
    "collapsed": true
   },
   "outputs": [],
   "source": [
    "# Construct model\n",
    "pred = conv_net(x, weights, biases, keep_prob)\n",
    "\n",
    "# Define loss and optimizer\n",
    "cost = tf.reduce_mean(tf.nn.softmax_cross_entropy_with_logits(logits=pred, labels=y))\n",
    "optimizer = tf.train.AdamOptimizer(learning_rate=learning_rate).minimize(cost)\n",
    "\n",
    "# Evaluate model\n",
    "correct_pred = tf.equal(tf.argmax(pred, 1), tf.argmax(y, 1))\n",
    "accuracy = tf.reduce_mean(tf.cast(correct_pred, tf.float32))\n",
    "\n",
    "# Initializing the variables\n",
    "init = tf.global_variables_initializer()"
   ]
  },
  {
   "cell_type": "code",
   "execution_count": 9,
   "metadata": {},
   "outputs": [
    {
     "name": "stdout",
     "output_type": "stream",
     "text": [
      "Iter 1280, Minibatch Loss= 34950.539062, Training Accuracy= 0.13281\n",
      "Iter 2560, Minibatch Loss= 16023.212891, Training Accuracy= 0.33594\n",
      "Iter 3840, Minibatch Loss= 8867.554688, Training Accuracy= 0.51562\n",
      "Iter 5120, Minibatch Loss= 3816.481689, Training Accuracy= 0.71094\n",
      "Iter 6400, Minibatch Loss= 4115.771484, Training Accuracy= 0.76562\n",
      "Iter 7680, Minibatch Loss= 7676.147949, Training Accuracy= 0.74219\n",
      "Iter 8960, Minibatch Loss= 3575.384277, Training Accuracy= 0.79688\n",
      "Iter 10240, Minibatch Loss= 3659.337646, Training Accuracy= 0.77344\n",
      "Iter 11520, Minibatch Loss= 1674.292725, Training Accuracy= 0.89844\n",
      "Iter 12800, Minibatch Loss= 2762.049316, Training Accuracy= 0.85156\n",
      "Iter 14080, Minibatch Loss= 1203.178467, Training Accuracy= 0.89844\n",
      "Iter 15360, Minibatch Loss= 1012.428284, Training Accuracy= 0.92188\n",
      "Iter 16640, Minibatch Loss= 1847.598999, Training Accuracy= 0.88281\n",
      "Iter 17920, Minibatch Loss= 978.580078, Training Accuracy= 0.91406\n",
      "Iter 19200, Minibatch Loss= 1226.933838, Training Accuracy= 0.89844\n",
      "Iter 20480, Minibatch Loss= 424.987305, Training Accuracy= 0.96875\n",
      "Iter 21760, Minibatch Loss= 3294.222412, Training Accuracy= 0.85156\n",
      "Iter 23040, Minibatch Loss= 576.525146, Training Accuracy= 0.95312\n",
      "Iter 24320, Minibatch Loss= 1464.209229, Training Accuracy= 0.88281\n",
      "Iter 25600, Minibatch Loss= 1008.074097, Training Accuracy= 0.90625\n",
      "Iter 26880, Minibatch Loss= 1221.220215, Training Accuracy= 0.89844\n",
      "Iter 28160, Minibatch Loss= 1165.606934, Training Accuracy= 0.96094\n",
      "Iter 29440, Minibatch Loss= 1516.520996, Training Accuracy= 0.91406\n",
      "Iter 30720, Minibatch Loss= 928.414429, Training Accuracy= 0.93750\n",
      "Iter 32000, Minibatch Loss= 1000.823853, Training Accuracy= 0.92188\n",
      "Iter 33280, Minibatch Loss= 1183.525146, Training Accuracy= 0.92188\n",
      "Iter 34560, Minibatch Loss= 462.306183, Training Accuracy= 0.92969\n",
      "Iter 35840, Minibatch Loss= 423.091797, Training Accuracy= 0.94531\n",
      "Iter 37120, Minibatch Loss= 1315.608521, Training Accuracy= 0.92188\n",
      "Iter 38400, Minibatch Loss= 278.969910, Training Accuracy= 0.98438\n",
      "Iter 39680, Minibatch Loss= 136.820282, Training Accuracy= 0.97656\n",
      "Iter 40960, Minibatch Loss= 1780.550659, Training Accuracy= 0.88281\n",
      "Iter 42240, Minibatch Loss= 778.668091, Training Accuracy= 0.95312\n",
      "Iter 43520, Minibatch Loss= 879.864807, Training Accuracy= 0.96094\n",
      "Iter 44800, Minibatch Loss= 543.075439, Training Accuracy= 0.95312\n",
      "Iter 46080, Minibatch Loss= 67.449837, Training Accuracy= 0.99219\n",
      "Iter 47360, Minibatch Loss= 1245.756348, Training Accuracy= 0.92969\n",
      "Iter 48640, Minibatch Loss= 1035.903687, Training Accuracy= 0.92188\n",
      "Iter 49920, Minibatch Loss= 763.475342, Training Accuracy= 0.91406\n",
      "Iter 51200, Minibatch Loss= 467.718140, Training Accuracy= 0.94531\n",
      "Iter 52480, Minibatch Loss= 538.992065, Training Accuracy= 0.94531\n",
      "Iter 53760, Minibatch Loss= 196.551041, Training Accuracy= 0.98438\n",
      "Iter 55040, Minibatch Loss= 596.822266, Training Accuracy= 0.96094\n",
      "Iter 56320, Minibatch Loss= 193.306580, Training Accuracy= 0.96094\n",
      "Iter 57600, Minibatch Loss= 501.061829, Training Accuracy= 0.92969\n",
      "Iter 58880, Minibatch Loss= 856.479492, Training Accuracy= 0.92969\n",
      "Iter 60160, Minibatch Loss= 954.941650, Training Accuracy= 0.92188\n",
      "Iter 61440, Minibatch Loss= 471.859680, Training Accuracy= 0.96875\n",
      "Iter 62720, Minibatch Loss= 765.258423, Training Accuracy= 0.93750\n",
      "Iter 64000, Minibatch Loss= 434.011108, Training Accuracy= 0.94531\n",
      "Iter 65280, Minibatch Loss= 589.281921, Training Accuracy= 0.95312\n",
      "Iter 66560, Minibatch Loss= 569.018860, Training Accuracy= 0.94531\n",
      "Iter 67840, Minibatch Loss= 939.930176, Training Accuracy= 0.93750\n",
      "Iter 69120, Minibatch Loss= 641.762024, Training Accuracy= 0.95312\n",
      "Iter 70400, Minibatch Loss= 439.534363, Training Accuracy= 0.95312\n",
      "Iter 71680, Minibatch Loss= 124.333000, Training Accuracy= 0.96875\n",
      "Iter 72960, Minibatch Loss= 694.659180, Training Accuracy= 0.94531\n",
      "Iter 74240, Minibatch Loss= 387.816742, Training Accuracy= 0.96094\n",
      "Iter 75520, Minibatch Loss= 365.675446, Training Accuracy= 0.96094\n",
      "Iter 76800, Minibatch Loss= 395.669678, Training Accuracy= 0.96094\n",
      "Iter 78080, Minibatch Loss= 175.741455, Training Accuracy= 0.96094\n",
      "Iter 79360, Minibatch Loss= 695.687744, Training Accuracy= 0.95312\n",
      "Iter 80640, Minibatch Loss= 835.213989, Training Accuracy= 0.92188\n",
      "Iter 81920, Minibatch Loss= 554.661255, Training Accuracy= 0.95312\n",
      "Iter 83200, Minibatch Loss= 333.408813, Training Accuracy= 0.95312\n",
      "Iter 84480, Minibatch Loss= 391.062683, Training Accuracy= 0.95312\n",
      "Iter 85760, Minibatch Loss= 217.447632, Training Accuracy= 0.97656\n",
      "Iter 87040, Minibatch Loss= 512.149536, Training Accuracy= 0.93750\n",
      "Iter 88320, Minibatch Loss= 213.084717, Training Accuracy= 0.96094\n",
      "Iter 89600, Minibatch Loss= 308.634827, Training Accuracy= 0.95312\n",
      "Iter 90880, Minibatch Loss= 678.507812, Training Accuracy= 0.92969\n",
      "Iter 92160, Minibatch Loss= 353.671814, Training Accuracy= 0.94531\n",
      "Iter 93440, Minibatch Loss= 147.632614, Training Accuracy= 0.98438\n",
      "Iter 94720, Minibatch Loss= 610.481689, Training Accuracy= 0.95312\n",
      "Iter 96000, Minibatch Loss= 129.799408, Training Accuracy= 0.97656\n",
      "Iter 97280, Minibatch Loss= 134.653305, Training Accuracy= 0.98438\n",
      "Iter 98560, Minibatch Loss= 224.687637, Training Accuracy= 0.96094\n",
      "Iter 99840, Minibatch Loss= 685.761963, Training Accuracy= 0.92969\n",
      "Iter 101120, Minibatch Loss= 438.755554, Training Accuracy= 0.95312\n",
      "Iter 102400, Minibatch Loss= 610.495850, Training Accuracy= 0.95312\n",
      "Iter 103680, Minibatch Loss= 367.428345, Training Accuracy= 0.96094\n",
      "Iter 104960, Minibatch Loss= 108.479309, Training Accuracy= 0.97656\n",
      "Iter 106240, Minibatch Loss= 266.833313, Training Accuracy= 0.96875\n",
      "Iter 107520, Minibatch Loss= 185.174149, Training Accuracy= 0.97656\n",
      "Iter 108800, Minibatch Loss= 156.520477, Training Accuracy= 0.96875\n",
      "Iter 110080, Minibatch Loss= 329.354187, Training Accuracy= 0.94531\n",
      "Iter 111360, Minibatch Loss= 239.179535, Training Accuracy= 0.98438\n",
      "Iter 112640, Minibatch Loss= 132.582031, Training Accuracy= 0.97656\n",
      "Iter 113920, Minibatch Loss= 279.729004, Training Accuracy= 0.93750\n",
      "Iter 115200, Minibatch Loss= 85.430199, Training Accuracy= 0.97656\n",
      "Iter 116480, Minibatch Loss= 314.704987, Training Accuracy= 0.93750\n",
      "Iter 117760, Minibatch Loss= 300.412476, Training Accuracy= 0.96094\n",
      "Iter 119040, Minibatch Loss= 437.318390, Training Accuracy= 0.96094\n",
      "Iter 120320, Minibatch Loss= 305.782440, Training Accuracy= 0.96875\n",
      "Iter 121600, Minibatch Loss= 135.847900, Training Accuracy= 0.98438\n",
      "Iter 122880, Minibatch Loss= 409.253174, Training Accuracy= 0.94531\n",
      "Iter 124160, Minibatch Loss= 36.331650, Training Accuracy= 0.98438\n",
      "Iter 125440, Minibatch Loss= 325.872437, Training Accuracy= 0.97656\n",
      "Iter 126720, Minibatch Loss= 46.562805, Training Accuracy= 0.97656\n",
      "Iter 128000, Minibatch Loss= 484.374634, Training Accuracy= 0.94531\n",
      "Iter 129280, Minibatch Loss= 76.085175, Training Accuracy= 0.98438\n",
      "Iter 130560, Minibatch Loss= 400.650208, Training Accuracy= 0.94531\n",
      "Iter 131840, Minibatch Loss= 184.375504, Training Accuracy= 0.96875\n",
      "Iter 133120, Minibatch Loss= 282.463470, Training Accuracy= 0.96875\n",
      "Iter 134400, Minibatch Loss= 237.280594, Training Accuracy= 0.96875\n",
      "Iter 135680, Minibatch Loss= 161.464600, Training Accuracy= 0.96875\n",
      "Iter 136960, Minibatch Loss= 110.549751, Training Accuracy= 0.97656\n",
      "Iter 138240, Minibatch Loss= 146.260376, Training Accuracy= 0.96875\n",
      "Iter 139520, Minibatch Loss= 118.831253, Training Accuracy= 0.96875\n",
      "Iter 140800, Minibatch Loss= 362.623505, Training Accuracy= 0.96094\n",
      "Iter 142080, Minibatch Loss= 310.504822, Training Accuracy= 0.96094\n",
      "Iter 143360, Minibatch Loss= 91.841385, Training Accuracy= 0.98438\n",
      "Iter 144640, Minibatch Loss= 284.107300, Training Accuracy= 0.96094\n",
      "Iter 145920, Minibatch Loss= 95.985626, Training Accuracy= 0.95312\n",
      "Iter 147200, Minibatch Loss= 218.786896, Training Accuracy= 0.96094\n",
      "Iter 148480, Minibatch Loss= 280.335510, Training Accuracy= 0.96875\n",
      "Iter 149760, Minibatch Loss= 277.003784, Training Accuracy= 0.96875\n",
      "Iter 151040, Minibatch Loss= 185.742798, Training Accuracy= 0.96875\n",
      "Iter 152320, Minibatch Loss= 496.254333, Training Accuracy= 0.96875\n",
      "Iter 153600, Minibatch Loss= 313.351074, Training Accuracy= 0.96875\n",
      "Iter 154880, Minibatch Loss= 80.480927, Training Accuracy= 0.96875\n",
      "Iter 156160, Minibatch Loss= 273.702087, Training Accuracy= 0.95312\n"
     ]
    },
    {
     "name": "stdout",
     "output_type": "stream",
     "text": [
      "Iter 157440, Minibatch Loss= 289.120300, Training Accuracy= 0.96094\n",
      "Iter 158720, Minibatch Loss= 341.674927, Training Accuracy= 0.96094\n",
      "Iter 160000, Minibatch Loss= 263.231903, Training Accuracy= 0.97656\n",
      "Iter 161280, Minibatch Loss= 283.622009, Training Accuracy= 0.94531\n",
      "Iter 162560, Minibatch Loss= 649.557739, Training Accuracy= 0.95312\n",
      "Iter 163840, Minibatch Loss= 19.485168, Training Accuracy= 0.98438\n",
      "Iter 165120, Minibatch Loss= 432.265228, Training Accuracy= 0.96875\n",
      "Iter 166400, Minibatch Loss= 281.725647, Training Accuracy= 0.96094\n",
      "Iter 167680, Minibatch Loss= 134.668488, Training Accuracy= 0.97656\n",
      "Iter 168960, Minibatch Loss= 272.558838, Training Accuracy= 0.94531\n",
      "Iter 170240, Minibatch Loss= 107.865326, Training Accuracy= 0.98438\n",
      "Iter 171520, Minibatch Loss= 210.760498, Training Accuracy= 0.97656\n",
      "Iter 172800, Minibatch Loss= 49.782326, Training Accuracy= 0.99219\n",
      "Iter 174080, Minibatch Loss= 86.150879, Training Accuracy= 0.97656\n",
      "Iter 175360, Minibatch Loss= 252.988953, Training Accuracy= 0.95312\n",
      "Iter 176640, Minibatch Loss= 88.966576, Training Accuracy= 0.99219\n",
      "Iter 177920, Minibatch Loss= 280.588928, Training Accuracy= 0.97656\n",
      "Iter 179200, Minibatch Loss= 112.291611, Training Accuracy= 0.96875\n",
      "Iter 180480, Minibatch Loss= 53.066727, Training Accuracy= 0.99219\n",
      "Iter 181760, Minibatch Loss= 128.024765, Training Accuracy= 0.98438\n",
      "Iter 183040, Minibatch Loss= 0.000000, Training Accuracy= 1.00000\n",
      "Iter 184320, Minibatch Loss= 123.724121, Training Accuracy= 0.98438\n",
      "Iter 185600, Minibatch Loss= 282.276215, Training Accuracy= 0.96875\n",
      "Iter 186880, Minibatch Loss= 80.966980, Training Accuracy= 0.98438\n",
      "Iter 188160, Minibatch Loss= 97.537750, Training Accuracy= 0.98438\n",
      "Iter 189440, Minibatch Loss= 211.485397, Training Accuracy= 0.97656\n",
      "Iter 190720, Minibatch Loss= 56.530937, Training Accuracy= 0.96875\n",
      "Iter 192000, Minibatch Loss= 106.413895, Training Accuracy= 0.98438\n",
      "Iter 193280, Minibatch Loss= 69.483543, Training Accuracy= 0.98438\n",
      "Iter 194560, Minibatch Loss= 3.655090, Training Accuracy= 0.99219\n",
      "Iter 195840, Minibatch Loss= 357.537109, Training Accuracy= 0.93750\n",
      "Iter 197120, Minibatch Loss= 170.613647, Training Accuracy= 0.97656\n",
      "Iter 198400, Minibatch Loss= 168.112137, Training Accuracy= 0.94531\n",
      "Iter 199680, Minibatch Loss= 73.196175, Training Accuracy= 0.97656\n",
      "Optimization Finished!\n",
      "('Testing Accuracy:', 0.98828125)\n"
     ]
    }
   ],
   "source": [
    "# Launch the graph\n",
    "with tf.Session() as sess:\n",
    "    sess.run(init)\n",
    "    step = 1\n",
    "    # Keep training until reach max iterations\n",
    "    while step * batch_size < training_iters:\n",
    "        batch_x, batch_y = mnist.train.next_batch(batch_size)\n",
    "        # Run optimization op (backprop)\n",
    "        sess.run(optimizer, feed_dict={x: batch_x, y: batch_y,\n",
    "                                       keep_prob: dropout})\n",
    "        if step % display_step == 0:\n",
    "            # Calculate batch loss and accuracy\n",
    "            loss, acc = sess.run([cost, accuracy], feed_dict={x: batch_x,\n",
    "                                                              y: batch_y,\n",
    "                                                              keep_prob: 1.})\n",
    "            print(\"Iter \" + str(step*batch_size) + \", Minibatch Loss= \" + \\\n",
    "                  \"{:.6f}\".format(loss) + \", Training Accuracy= \" + \\\n",
    "                  \"{:.5f}\".format(acc))\n",
    "        step += 1\n",
    "    print(\"Optimization Finished!\")\n",
    "\n",
    "    # Calculate accuracy for 256 mnist test images\n",
    "    print(\"Testing Accuracy:\", \\\n",
    "        sess.run(accuracy, feed_dict={x: mnist.test.images[:256],\n",
    "                                      y: mnist.test.labels[:256],\n",
    "                                      keep_prob: 1.}))"
   ]
  },
  {
   "cell_type": "code",
   "execution_count": null,
   "metadata": {
    "collapsed": true
   },
   "outputs": [],
   "source": []
  }
 ],
 "metadata": {
  "kernelspec": {
   "display_name": "Python 2",
   "language": "python",
   "name": "python2"
  },
  "language_info": {
   "codemirror_mode": {
    "name": "ipython",
    "version": 2
   },
   "file_extension": ".py",
   "mimetype": "text/x-python",
   "name": "python",
   "nbconvert_exporter": "python",
   "pygments_lexer": "ipython2",
   "version": "2.7.12"
  }
 },
 "nbformat": 4,
 "nbformat_minor": 2
}
